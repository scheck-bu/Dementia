{
  "nbformat": 4,
  "nbformat_minor": 0,
  "metadata": {
    "colab": {
      "provenance": [],
      "machine_shape": "hm",
      "gpuType": "A100"
    },
    "kernelspec": {
      "name": "python3",
      "display_name": "Python 3"
    },
    "language_info": {
      "name": "python"
    },
    "accelerator": "GPU"
  },
  "cells": [
    {
      "cell_type": "markdown",
      "source": [
        "# Term Project:\n",
        "\n",
        "<br>\n",
        "<h2><center>DSC 630 Spring 2024</center></h2>\n",
        "<h2><center>Garth Scheck </center></h2>"
      ],
      "metadata": {
        "id": "IGpN3aI3ky9v"
      }
    },
    {
      "cell_type": "markdown",
      "source": [
        "**Note:**\n",
        "    This notebook was ran in Google Colab using TPU configuration with High-Ram.\n",
        "    Usiung any other configuration may cause exceptions or unexpected results."
      ],
      "metadata": {
        "id": "i3ABVl5elO60"
      }
    },
    {
      "cell_type": "code",
      "source": [
        "%pip install skfeature-chappers"
      ],
      "metadata": {
        "id": "RNPHx0NUduTV",
        "colab": {
          "base_uri": "https://localhost:8080/"
        },
        "outputId": "792f682b-6097-472c-8d4f-62c3251fd39c"
      },
      "execution_count": null,
      "outputs": [
        {
          "output_type": "stream",
          "name": "stdout",
          "text": [
            "Collecting skfeature-chappers\n",
            "  Downloading skfeature_chappers-1.1.0-py3-none-any.whl (66 kB)\n",
            "\u001b[?25l     \u001b[90m━━━━━━━━━━━━━━━━━━━━━━━━━━━━━━━━━━━━━━━━\u001b[0m \u001b[32m0.0/66.3 kB\u001b[0m \u001b[31m?\u001b[0m eta \u001b[36m-:--:--\u001b[0m\r\u001b[2K     \u001b[90m━━━━━━━━━━━━━━━━━━━━━━━━━━━━━━━━━━━━━━━━\u001b[0m \u001b[32m66.3/66.3 kB\u001b[0m \u001b[31m2.2 MB/s\u001b[0m eta \u001b[36m0:00:00\u001b[0m\n",
            "\u001b[?25hRequirement already satisfied: scikit-learn in /usr/local/lib/python3.10/dist-packages (from skfeature-chappers) (1.2.2)\n",
            "Requirement already satisfied: pandas in /usr/local/lib/python3.10/dist-packages (from skfeature-chappers) (2.0.3)\n",
            "Requirement already satisfied: numpy in /usr/local/lib/python3.10/dist-packages (from skfeature-chappers) (1.25.2)\n",
            "Requirement already satisfied: python-dateutil>=2.8.2 in /usr/local/lib/python3.10/dist-packages (from pandas->skfeature-chappers) (2.8.2)\n",
            "Requirement already satisfied: pytz>=2020.1 in /usr/local/lib/python3.10/dist-packages (from pandas->skfeature-chappers) (2023.4)\n",
            "Requirement already satisfied: tzdata>=2022.1 in /usr/local/lib/python3.10/dist-packages (from pandas->skfeature-chappers) (2024.1)\n",
            "Requirement already satisfied: scipy>=1.3.2 in /usr/local/lib/python3.10/dist-packages (from scikit-learn->skfeature-chappers) (1.11.4)\n",
            "Requirement already satisfied: joblib>=1.1.1 in /usr/local/lib/python3.10/dist-packages (from scikit-learn->skfeature-chappers) (1.4.0)\n",
            "Requirement already satisfied: threadpoolctl>=2.0.0 in /usr/local/lib/python3.10/dist-packages (from scikit-learn->skfeature-chappers) (3.4.0)\n",
            "Requirement already satisfied: six>=1.5 in /usr/local/lib/python3.10/dist-packages (from python-dateutil>=2.8.2->pandas->skfeature-chappers) (1.16.0)\n",
            "Installing collected packages: skfeature-chappers\n",
            "Successfully installed skfeature-chappers-1.1.0\n"
          ]
        }
      ]
    },
    {
      "cell_type": "markdown",
      "source": [
        "#### Import necessary packages."
      ],
      "metadata": {
        "id": "qDJCBmM7lr0U"
      }
    },
    {
      "cell_type": "code",
      "execution_count": 1,
      "metadata": {
        "id": "teJ4DkCqbj7V"
      },
      "outputs": [],
      "source": [
        "import pandas as pd\n",
        "import matplotlib.pyplot as plt\n",
        "import seaborn as sns\n",
        "import sklearn\n",
        "import warnings\n",
        "\n",
        "from sklearn.preprocessing import LabelEncoder\n",
        "from sklearn.impute import KNNImputer\n",
        "from sklearn.model_selection import train_test_split\n",
        "from sklearn.preprocessing import StandardScaler\n",
        "from sklearn.metrics import f1_score\n",
        "from sklearn.ensemble import RandomForestRegressor\n",
        "from sklearn.model_selection import cross_val_score\n",
        "\n",
        "# ignore warnings\n",
        "warnings.simplefilter(action='ignore', category=FutureWarning)"
      ]
    },
    {
      "cell_type": "markdown",
      "source": [
        "#### Read data into dataframe."
      ],
      "metadata": {
        "id": "G9gsGLi4l0Zu"
      }
    },
    {
      "cell_type": "code",
      "source": [
        "# read in data from file\n",
        "df = pd.read_csv('investigator_nacc64.csv')"
      ],
      "metadata": {
        "colab": {
          "base_uri": "https://localhost:8080/"
        },
        "id": "mHpVoXWBoQ4z",
        "outputId": "4e370bf7-0507-4622-ada3-2815b910c6ba"
      },
      "execution_count": 2,
      "outputs": [
        {
          "output_type": "stream",
          "name": "stderr",
          "text": [
            "<ipython-input-2-697c40fe30b6>:2: DtypeWarning: Columns (20,24,26,28,41,46,48,51,91,92,93,94,95,96,97,98,99,100,101,156,217,220,234,236,238,240,242,244,246,248,250,252,254,256,258,260,262,264,266,268,270,272,432,445,454,494,574,613,638,707,744,803,804,809,810,811,812,833,843,904,959,960,982,1004,1007) have mixed types. Specify dtype option on import or set low_memory=False.\n",
            "  df = pd.read_csv('investigator_nacc64.csv')\n"
          ]
        }
      ]
    },
    {
      "cell_type": "code",
      "source": [
        "for column in df:\n",
        "    if df[column].isnull().any():\n",
        "        print('{0} has {1} null values'.format(column, df[column].isnull().sum()))"
      ],
      "metadata": {
        "id": "-4szlcWG8gmR",
        "colab": {
          "base_uri": "https://localhost:8080/"
        },
        "outputId": "a3197767-96ee-4e20-d80a-5ddfe6673d51"
      },
      "execution_count": 3,
      "outputs": [
        {
          "output_type": "stream",
          "name": "stdout",
          "text": [
            "HISPORX has 2004 null values\n",
            "RACEX has 2009 null values\n",
            "RACESECX has 2028 null values\n",
            "RACETERX has 2031 null values\n",
            "PRIMLANX has 2016 null values\n",
            "INHISPOX has 2022 null values\n",
            "INRACEX has 2010 null values\n",
            "INRASECX has 2033 null values\n",
            "INRATERX has 2036 null values\n",
            "INRELTOX has 2024 null values\n",
            "NACCAMX has 1918 null values\n",
            "NACCAMSX has 1919 null values\n",
            "NACCFMX has 1919 null values\n",
            "NACCFMSX has 1919 null values\n",
            "NACCOMX has 1917 null values\n",
            "NACCOMSX has 1924 null values\n",
            "DRUG1 has 276 null values\n",
            "DRUG2 has 395 null values\n",
            "DRUG3 has 549 null values\n",
            "DRUG4 has 740 null values\n",
            "DRUG5 has 940 null values\n",
            "DRUG6 has 1135 null values\n",
            "DRUG7 has 1305 null values\n",
            "DRUG8 has 1480 null values\n",
            "DRUG9 has 1605 null values\n",
            "DRUG10 has 1690 null values\n",
            "DRUG11 has 1777 null values\n",
            "DRUG12 has 1848 null values\n",
            "DRUG13 has 1911 null values\n",
            "DRUG14 has 1941 null values\n",
            "DRUG15 has 1972 null values\n",
            "DRUG16 has 1993 null values\n",
            "DRUG17 has 2006 null values\n",
            "DRUG18 has 2020 null values\n",
            "DRUG19 has 2022 null values\n",
            "DRUG20 has 2024 null values\n",
            "DRUG21 has 2026 null values\n",
            "DRUG22 has 2029 null values\n",
            "DRUG23 has 2031 null values\n",
            "DRUG24 has 2034 null values\n",
            "DRUG25 has 2035 null values\n",
            "DRUG26 has 2035 null values\n",
            "DRUG27 has 2037 null values\n",
            "DRUG28 has 2038 null values\n",
            "DRUG29 has 2038 null values\n",
            "DRUG30 has 2038 null values\n",
            "DRUG31 has 2038 null values\n",
            "DRUG32 has 2038 null values\n",
            "DRUG33 has 2038 null values\n",
            "DRUG34 has 2038 null values\n",
            "DRUG35 has 2038 null values\n",
            "DRUG36 has 2038 null values\n",
            "DRUG37 has 2038 null values\n",
            "DRUG38 has 2038 null values\n",
            "DRUG39 has 2038 null values\n",
            "DRUG40 has 2038 null values\n",
            "CVOTHRX has 1924 null values\n",
            "NCOTHRX has 2013 null values\n",
            "ARTHTYPX has 2019 null values\n",
            "OTHSLEEX has 2014 null values\n",
            "ABUSX has 1998 null values\n",
            "PSYCDISX has 1963 null values\n",
            "HEIGHT has 32 null values\n",
            "WEIGHT has 32 null values\n",
            "BPSYS has 32 null values\n",
            "BPDIAS has 32 null values\n",
            "HRATE has 32 null values\n",
            "CVDIMAGX has 2037 null values\n",
            "SPEECHX has 2035 null values\n",
            "FACEXPX has 2038 null values\n",
            "TRESTFAX has 2038 null values\n",
            "TRESTRHX has 2038 null values\n",
            "TRESTLHX has 2038 null values\n",
            "TRESTRFX has 2038 null values\n",
            "TRESTLFX has 2038 null values\n",
            "TRACTRHX has 2037 null values\n",
            "TRACTLHX has 2037 null values\n",
            "RIGDNEX has 2036 null values\n",
            "RIGDUPRX has 2036 null values\n",
            "RIGDUPLX has 2036 null values\n",
            "RIGDLORX has 2036 null values\n",
            "RIGDLOLX has 2036 null values\n",
            "TAPSRTX has 2027 null values\n",
            "TAPSLFX has 2028 null values\n",
            "HANDMVRX has 2026 null values\n",
            "HANDMVLX has 2028 null values\n",
            "HANDATRX has 2022 null values\n",
            "HANDATLX has 2024 null values\n",
            "LEGRTX has 2025 null values\n",
            "LEGLFX has 2024 null values\n",
            "ARISINGX has 2034 null values\n",
            "POSTUREX has 2036 null values\n",
            "GAITX has 2036 null values\n",
            "POSSTABX has 2025 null values\n",
            "BRADYKIX has 2037 null values\n",
            "NPIQINFX has 1747 null values\n",
            "APRAXL has 1 null values\n",
            "APRAXR has 1 null values\n",
            "CORTSENL has 1 null values\n",
            "CORTSENR has 1 null values\n",
            "ATAXL has 1 null values\n",
            "ATAXR has 1 null values\n",
            "ALIENLML has 1 null values\n",
            "ALIENLMR has 1 null values\n",
            "DYSTONL has 1 null values\n",
            "DYSTONR has 1 null values\n",
            "MYOCLLT has 1 null values\n",
            "MYOCLRT has 1 null values\n",
            "ALSFIND has 1 null values\n",
            "GAITNPH has 1 null values\n",
            "OTHNEUR has 1 null values\n",
            "OTHNEURX has 1778 null values\n",
            "B9CHG has 1 null values\n",
            "DECSUB has 1 null values\n",
            "DECIN has 1 null values\n",
            "DECCLIN has 1 null values\n",
            "DECCLCOG has 1 null values\n",
            "COGMEM has 1 null values\n",
            "COGORI has 1 null values\n",
            "COGJUDG has 1 null values\n",
            "COGLANG has 1 null values\n",
            "COGVIS has 1 null values\n",
            "COGATTN has 1 null values\n",
            "COGFLUC has 1 null values\n",
            "COGFLAGO has 1 null values\n",
            "COGOTHR has 1 null values\n",
            "COGOTHRX has 2015 null values\n",
            "NACCCOGF has 1 null values\n",
            "NACCCGFX has 2017 null values\n",
            "COGMODE has 1 null values\n",
            "COGMODEX has 2028 null values\n",
            "DECAGE has 1 null values\n",
            "DECCLBE has 1 null values\n",
            "BEAPATHY has 1 null values\n",
            "BEDEP has 1 null values\n",
            "BEVHALL has 1 null values\n",
            "BEVWELL has 1 null values\n",
            "BEVHAGO has 1 null values\n",
            "BEAHALL has 1 null values\n",
            "BEDEL has 1 null values\n",
            "BEDISIN has 1 null values\n",
            "BEIRRIT has 1 null values\n",
            "BEAGIT has 1 null values\n",
            "BEPERCH has 1 null values\n",
            "BEREM has 1 null values\n",
            "BEREMAGO has 1 null values\n",
            "BEANX has 1 null values\n",
            "BEOTHR has 1 null values\n",
            "BEOTHRX has 1994 null values\n",
            "NACCBEHF has 1 null values\n",
            "NACCBEFX has 2017 null values\n",
            "BEMODE has 1 null values\n",
            "BEMODEX has 2031 null values\n",
            "BEAGE has 1 null values\n",
            "DECCLMOT has 1 null values\n",
            "MOGAIT has 1 null values\n",
            "MOFALLS has 1 null values\n",
            "MOTREM has 1 null values\n",
            "MOSLOW has 1 null values\n",
            "NACCMOTF has 1 null values\n",
            "MOMODE has 1 null values\n",
            "MOMODEX has 2033 null values\n",
            "MOMOPARK has 1 null values\n",
            "PARKAGE has 1 null values\n",
            "MOMOALS has 1 null values\n",
            "ALSAGE has 1 null values\n",
            "MOAGE has 1 null values\n",
            "COURSE has 1 null values\n",
            "FRSTCHG has 1 null values\n",
            "LBDEVAL has 1 null values\n",
            "FTLDEVAL has 1 null values\n",
            "MMSECOMP has 1 null values\n",
            "MMSELOC has 1 null values\n",
            "MMSELAN has 1 null values\n",
            "MMSELANX has 1976 null values\n",
            "MMSEVIS has 1 null values\n",
            "MMSEHEAR has 1 null values\n",
            "MMSEORDA has 1 null values\n",
            "MMSEORLO has 1 null values\n",
            "PENTAGON has 1 null values\n",
            "NACCMMSE has 1 null values\n",
            "NPSYCLOC has 1 null values\n",
            "NPSYLAN has 1 null values\n",
            "NPSYLANX has 1918 null values\n",
            "LOGIMO has 1 null values\n",
            "LOGIDAY has 1 null values\n",
            "LOGIYR has 1 null values\n",
            "LOGIPREV has 1 null values\n",
            "LOGIMEM has 1 null values\n",
            "MEMUNITS has 1 null values\n",
            "MEMTIME has 1 null values\n",
            "UDSBENTC has 1 null values\n",
            "UDSBENTD has 1 null values\n",
            "UDSBENRS has 1 null values\n",
            "DIGIF has 1 null values\n",
            "DIGIFLEN has 1 null values\n",
            "DIGIB has 1 null values\n",
            "DIGIBLEN has 1 null values\n",
            "ANIMALS has 1 null values\n",
            "VEG has 1 null values\n",
            "TRAILA has 1 null values\n",
            "TRAILARR has 1 null values\n",
            "TRAILALI has 1 null values\n",
            "TRAILB has 1 null values\n",
            "TRAILBRR has 1 null values\n",
            "TRAILBLI has 1 null values\n",
            "WAIS has 1 null values\n",
            "BOSTON has 1 null values\n",
            "UDSVERFC has 1 null values\n",
            "UDSVERFN has 1 null values\n",
            "UDSVERNF has 1 null values\n",
            "UDSVERLC has 1 null values\n",
            "UDSVERLR has 1 null values\n",
            "UDSVERLN has 1 null values\n",
            "UDSVERTN has 1 null values\n",
            "UDSVERTE has 1 null values\n",
            "UDSVERTI has 1 null values\n",
            "COGSTAT has 1 null values\n",
            "NACCC1 has 1 null values\n",
            "MOCACOMP has 1 null values\n",
            "MOCAREAS has 1 null values\n",
            "MOCALOC has 1 null values\n",
            "MOCALAN has 1 null values\n",
            "MOCALANX has 1207 null values\n",
            "MOCAVIS has 1 null values\n",
            "MOCAHEAR has 1 null values\n",
            "MOCATOTS has 1 null values\n",
            "MOCATRAI has 1 null values\n",
            "MOCACUBE has 1 null values\n",
            "MOCACLOC has 1 null values\n",
            "MOCACLON has 1 null values\n",
            "MOCACLOH has 1 null values\n",
            "MOCANAMI has 1 null values\n",
            "MOCAREGI has 1 null values\n",
            "MOCADIGI has 1 null values\n",
            "MOCALETT has 1 null values\n",
            "MOCASER7 has 1 null values\n",
            "MOCAREPE has 1 null values\n",
            "MOCAFLUE has 1 null values\n",
            "MOCAABST has 1 null values\n",
            "MOCARECN has 1 null values\n",
            "MOCARECC has 1 null values\n",
            "MOCARECR has 1 null values\n",
            "MOCAORDT has 1 null values\n",
            "MOCAORMO has 1 null values\n",
            "MOCAORYR has 1 null values\n",
            "MOCAORDY has 1 null values\n",
            "MOCAORPL has 1 null values\n",
            "MOCAORCT has 1 null values\n",
            "NACCMOCA has 1 null values\n",
            "CRAFTVRS has 1 null values\n",
            "CRAFTURS has 1 null values\n",
            "DIGFORCT has 1 null values\n",
            "DIGFORSL has 1 null values\n",
            "DIGBACCT has 1 null values\n",
            "DIGBACLS has 1 null values\n",
            "CRAFTDVR has 1 null values\n",
            "CRAFTDRE has 1 null values\n",
            "CRAFTDTI has 1 null values\n",
            "CRAFTCUE has 1 null values\n",
            "MINTTOTS has 1 null values\n",
            "MINTTOTW has 1 null values\n",
            "MINTSCNG has 1 null values\n",
            "MINTSCNC has 1 null values\n",
            "MINTPCNG has 1 null values\n",
            "MINTPCNC has 1 null values\n",
            "NACCC2 has 1 null values\n",
            "MODCOMM has 1 null values\n",
            "MOCBTOTS has 1 null values\n",
            "NACCMOCB has 1 null values\n",
            "REY1REC has 1 null values\n",
            "REY1INT has 1 null values\n",
            "REY2REC has 1 null values\n",
            "REY2INT has 1 null values\n",
            "REY3REC has 1 null values\n",
            "REY3INT has 1 null values\n",
            "REY4REC has 1 null values\n",
            "REY4INT has 1 null values\n",
            "REY5REC has 1 null values\n",
            "REY5INT has 1 null values\n",
            "REY6REC has 1 null values\n",
            "REY6INT has 1 null values\n",
            "OTRAILA has 1 null values\n",
            "OTRLARR has 1 null values\n",
            "OTRLALI has 1 null values\n",
            "OTRAILB has 1 null values\n",
            "OTRLBRR has 1 null values\n",
            "OTRLBLI has 1 null values\n",
            "REYDREC has 1 null values\n",
            "REYDINT has 1 null values\n",
            "REYTCOR has 1 null values\n",
            "REYFPOS has 1 null values\n",
            "VNTTOTW has 1 null values\n",
            "VNTPCNC has 1 null values\n",
            "RESPVAL has 1 null values\n",
            "RESPHEAR has 1 null values\n",
            "RESPDIST has 1 null values\n",
            "RESPINTR has 1 null values\n",
            "RESPDISN has 1 null values\n",
            "RESPFATG has 1 null values\n",
            "RESPEMOT has 1 null values\n",
            "RESPASST has 1 null values\n",
            "RESPOTH has 1 null values\n",
            "RESPOTHX has 1 null values\n",
            "WHODIDDX has 1 null values\n",
            "DXMETHOD has 1 null values\n",
            "NORMCOG has 1 null values\n",
            "DEMENTED has 1 null values\n",
            "AMNDEM has 1 null values\n",
            "PCA has 1 null values\n",
            "NACCPPA has 1 null values\n",
            "NACCPPAG has 1 null values\n",
            "NACCPPME has 1 null values\n",
            "NACCBVFT has 1 null values\n",
            "NACCLBDS has 1 null values\n",
            "NAMNDEM has 1 null values\n",
            "NACCTMCI has 1 null values\n",
            "NACCMCIL has 1 null values\n",
            "NACCMCIA has 1 null values\n",
            "NACCMCIE has 1 null values\n",
            "NACCMCIV has 1 null values\n",
            "NACCMCII has 1 null values\n",
            "IMPNOMCI has 1 null values\n",
            "AMYLPET has 1 null values\n",
            "AMYLCSF has 1 null values\n",
            "FDGAD has 1 null values\n",
            "HIPPATR has 1 null values\n",
            "TAUPETAD has 1 null values\n",
            "CSFTAU has 1 null values\n",
            "FDGFTLD has 1 null values\n",
            "TPETFTLD has 1 null values\n",
            "MRFTLD has 1 null values\n",
            "DATSCAN has 1 null values\n",
            "OTHBIOM has 1 null values\n",
            "OTHBIOMX has 2002 null values\n",
            "IMAGLINF has 1 null values\n",
            "IMAGLAC has 1 null values\n",
            "IMAGMACH has 1 null values\n",
            "IMAGMICH has 1 null values\n",
            "IMAGMWMH has 1 null values\n",
            "IMAGEWMH has 1 null values\n",
            "OTHMUT has 1 null values\n",
            "OTHMUTX has 2036 null values\n",
            "NACCALZD has 1 null values\n",
            "NACCALZP has 1 null values\n",
            "PROBAD has 1 null values\n",
            "PROBADIF has 1 null values\n",
            "POSSAD has 1 null values\n",
            "POSSADIF has 1 null values\n",
            "NACCLBDE has 1 null values\n",
            "NACCLBDP has 1 null values\n",
            "PARK has 1 null values\n",
            "MSA has 1 null values\n",
            "MSAIF has 1 null values\n",
            "PSP has 1 null values\n",
            "PSPIF has 1 null values\n",
            "CORT has 1 null values\n",
            "CORTIF has 1 null values\n",
            "FTLDMO has 1 null values\n",
            "FTLDMOIF has 1 null values\n",
            "FTLDNOS has 1 null values\n",
            "FTLDNOIF has 1 null values\n",
            "FTD has 1 null values\n",
            "FTDIF has 1 null values\n",
            "PPAPH has 1 null values\n",
            "PPAPHIF has 1 null values\n",
            "FTLDSUBT has 1 null values\n",
            "FTLDSUBX has 2029 null values\n",
            "CVD has 1 null values\n",
            "CVDIF has 1 null values\n",
            "PREVSTK has 1 null values\n",
            "STROKDEC has 1 null values\n",
            "STKIMAG has 1 null values\n",
            "INFNETW has 1 null values\n",
            "INFWMH has 1 null values\n",
            "VASC has 1 null values\n",
            "VASCIF has 1 null values\n",
            "VASCPS has 1 null values\n",
            "VASCPSIF has 1 null values\n",
            "STROKE has 1 null values\n",
            "STROKIF has 1 null values\n",
            "ESSTREM has 1 null values\n",
            "ESSTREIF has 1 null values\n",
            "DOWNS has 1 null values\n",
            "DOWNSIF has 1 null values\n",
            "HUNT has 1 null values\n",
            "HUNTIF has 1 null values\n",
            "PRION has 1 null values\n",
            "PRIONIF has 1 null values\n",
            "BRNINJ has 1 null values\n",
            "BRNINJIF has 1 null values\n",
            "BRNINCTE has 1 null values\n",
            "HYCEPH has 1 null values\n",
            "HYCEPHIF has 1 null values\n",
            "EPILEP has 1 null values\n",
            "EPILEPIF has 1 null values\n",
            "NEOP has 1 null values\n",
            "NEOPIF has 1 null values\n",
            "NEOPSTAT has 1 null values\n",
            "HIV has 1 null values\n",
            "HIVIF has 1 null values\n",
            "OTHCOG has 1 null values\n",
            "OTHCOGIF has 1 null values\n",
            "OTHCOGX has 1997 null values\n",
            "DEP has 1 null values\n",
            "DEPIF has 1 null values\n",
            "DEPTREAT has 1 null values\n",
            "BIPOLDX has 1 null values\n",
            "BIPOLDIF has 1 null values\n",
            "SCHIZOP has 1 null values\n",
            "SCHIZOIF has 1 null values\n",
            "ANXIET has 1 null values\n",
            "ANXIETIF has 1 null values\n",
            "DELIR has 1 null values\n",
            "DELIRIF has 1 null values\n",
            "PTSDDX has 1 null values\n",
            "PTSDDXIF has 1 null values\n",
            "OTHPSY has 1 null values\n",
            "OTHPSYIF has 1 null values\n",
            "OTHPSYX has 2018 null values\n",
            "ALCDEM has 1 null values\n",
            "ALCDEMIF has 1 null values\n",
            "ALCABUSE has 1 null values\n",
            "IMPSUB has 1 null values\n",
            "IMPSUBIF has 1 null values\n",
            "DYSILL has 1 null values\n",
            "DYSILLIF has 1 null values\n",
            "MEDS has 1 null values\n",
            "MEDSIF has 1 null values\n",
            "DEMUN has 1 null values\n",
            "DEMUNIF has 1 null values\n",
            "COGOTH has 1 null values\n",
            "COGOTHIF has 1 null values\n",
            "COGOTHX has 1911 null values\n",
            "COGOTH2 has 1 null values\n",
            "COGOTH2F has 1 null values\n",
            "COGOTH2X has 2037 null values\n",
            "COGOTH3 has 1 null values\n",
            "COGOTH3F has 1 null values\n",
            "COGOTH3X has 2038 null values\n",
            "NACCETPR has 1 null values\n",
            "NACCADMU has 1 null values\n",
            "NACCFTDM has 1 null values\n",
            "CANCER has 1 null values\n",
            "CANCSITE has 1838 null values\n",
            "DIABET has 1 null values\n",
            "MYOINF has 1 null values\n",
            "CONGHRT has 1 null values\n",
            "AFIBRILL has 1 null values\n",
            "HYPERT has 1 null values\n",
            "ANGINA has 1 null values\n",
            "HYPCHOL has 1 null values\n",
            "VB12DEF has 1 null values\n",
            "THYDIS has 1 null values\n",
            "ARTH has 1 null values\n",
            "ARTYPE has 1 null values\n",
            "ARTYPEX has 2012 null values\n",
            "ARTUPEX has 1 null values\n",
            "ARTLOEX has 1 null values\n",
            "ARTSPIN has 1 null values\n",
            "ARTUNKN has 1 null values\n",
            "URINEINC has 1 null values\n",
            "BOWLINC has 1 null values\n",
            "SLEEPAP has 1 null values\n",
            "REMDIS has 1 null values\n",
            "HYPOSOM has 1 null values\n",
            "SLEEPOTH has 1 null values\n",
            "SLEEPOTX has 1994 null values\n",
            "ANGIOCP has 1 null values\n",
            "ANGIOPCI has 1 null values\n",
            "PACEMAKE has 1 null values\n",
            "HVALVE has 1 null values\n",
            "ANTIENC has 1 null values\n",
            "ANTIENCX has 2034 null values\n",
            "OTHCOND has 1 null values\n",
            "OTHCONDX has 1716 null values\n",
            "NACCAGEB has 1 null values\n",
            "NACCNIHR has 1 null values\n",
            "NACCNORM has 1 null values\n",
            "NACCIDEM has 1 null values\n",
            "NACCAGE has 1 null values\n",
            "NACCAAAS has 1 null values\n",
            "NACCAANX has 1 null values\n",
            "NACCAC has 1 null values\n",
            "NACCACEI has 1 null values\n",
            "NACCADEP has 1 null values\n",
            "NACCADMD has 1 null values\n",
            "NACCAHTN has 1 null values\n",
            "NACCAMD has 1 null values\n",
            "NACCANGI has 1 null values\n",
            "NACCAPSY has 1 null values\n",
            "NACCBETA has 1 null values\n",
            "NACCCCBS has 1 null values\n",
            "NACCDBMD has 1 null values\n",
            "NACCDIUR has 1 null values\n",
            "NACCEMD has 1 null values\n",
            "NACCEPMD has 1 null values\n",
            "NACCHTNC has 1 null values\n",
            "NACCLIPL has 1 null values\n",
            "NACCNSD has 1 null values\n",
            "NACCPDMD has 1 null values\n",
            "NACCVASD has 1 null values\n",
            "NACCBMI has 1 null values\n",
            "NACCUDSD has 1 null values\n",
            "NACCDIED has 1 null values\n",
            "NACCMOD has 1 null values\n",
            "NACCYOD has 1 null values\n",
            "NACCAUTP has 1 null values\n",
            "NACCACTV has 1 null values\n",
            "NACCNOVS has 1 null values\n",
            "NACCDSMO has 1 null values\n",
            "NACCDSDY has 1 null values\n",
            "NACCDSYR has 1 null values\n",
            "NACCNURP has 1 null values\n",
            "NACCNRMO has 1 null values\n",
            "NACCNRDY has 1 null values\n",
            "NACCNRYR has 1 null values\n",
            "NACCFTD has 1 null values\n",
            "NACCMDSS has 1 null values\n",
            "NACCPAFF has 1 null values\n",
            "NACCLBDM has 1 null values\n",
            "NACCACSF has 1 null values\n",
            "NACCPCSF has 1 null values\n",
            "NACCTCSF has 1 null values\n",
            "NACCMRSA has 1 null values\n",
            "NACCNMRI has 1 null values\n",
            "NACCAPSA has 1 null values\n",
            "NACCNAPA has 1 null values\n",
            "TELCOV has 1 null values\n",
            "TELMOD has 1 null values\n",
            "ADGCGWAS has 1 null values\n",
            "ADGCEXOM has 1 null values\n",
            "ADGCRND has 1 null values\n",
            "ADGCEXR has 1 null values\n",
            "NGDSGWAS has 1 null values\n",
            "NGDSEXOM has 1 null values\n",
            "NGDSWGS has 1 null values\n",
            "NGDSWES has 1 null values\n",
            "NGDSGWAC has 1 null values\n",
            "NGDSEXAC has 1 null values\n",
            "NGDSWGAC has 1 null values\n",
            "NGDSWEAC has 1 null values\n",
            "NACCNCRD has 1 null values\n",
            "NACCAPOE has 1 null values\n",
            "NACCNE4S has 1 null values\n",
            "NPFORMVER has 1 null values\n",
            "NPSEX has 1 null values\n",
            "NPPMIH has 1 null values\n",
            "NPFIX has 1 null values\n",
            "NPFIXX has 1995 null values\n",
            "NPWBRWT has 1 null values\n",
            "NPWBRF has 1 null values\n",
            "NACCBRNN has 1 null values\n",
            "NPGRCCA has 1 null values\n",
            "NPGRLA has 1 null values\n",
            "NPGRHA has 1 null values\n",
            "NPGRSNH has 1 null values\n",
            "NPGRLCH has 1 null values\n",
            "NACCAVAS has 1 null values\n",
            "NPTAN has 1 null values\n",
            "NPTANX has 1995 null values\n",
            "NPABAN has 1 null values\n",
            "NPABANX has 1833 null values\n",
            "NPASAN has 1 null values\n",
            "NPASANX has 1995 null values\n",
            "NPTDPAN has 1 null values\n",
            "NPTDPANX has 1995 null values\n",
            "NPHISMB has 1 null values\n",
            "NPHISG has 1 null values\n",
            "NPHISSS has 1 null values\n",
            "NPHIST has 1 null values\n",
            "NPHISO has 1 null values\n",
            "NPHISOX has 1945 null values\n",
            "NPTHAL has 1 null values\n",
            "NACCBRAA has 1 null values\n",
            "NACCNEUR has 1 null values\n",
            "NPADNC has 1 null values\n",
            "NACCDIFF has 1 null values\n",
            "NACCVASC has 1 null values\n",
            "NACCAMY has 1 null values\n",
            "NPLINF has 1 null values\n",
            "NPLAC has 1 null values\n",
            "NPINF has 1 null values\n",
            "NPINF1A has 1 null values\n",
            "NPINF1B has 1 null values\n",
            "NPINF1D has 1 null values\n",
            "NPINF1F has 1 null values\n",
            "NPINF2A has 1 null values\n",
            "NPINF2B has 1 null values\n",
            "NPINF2D has 1 null values\n",
            "NPINF2F has 1 null values\n",
            "NPINF3A has 1 null values\n",
            "NPINF3B has 1 null values\n",
            "NPINF3D has 1 null values\n",
            "NPINF3F has 1 null values\n",
            "NPINF4A has 1 null values\n",
            "NPINF4B has 1 null values\n",
            "NPINF4D has 1 null values\n",
            "NPINF4F has 1 null values\n",
            "NACCINF has 1 null values\n",
            "NPHEM has 1 null values\n",
            "NPHEMO has 1 null values\n",
            "NPHEMO1 has 1 null values\n",
            "NPHEMO2 has 1 null values\n",
            "NPHEMO3 has 1 null values\n",
            "NPMICRO has 1 null values\n",
            "NPOLD has 1 null values\n",
            "NPOLD1 has 1 null values\n",
            "NPOLD2 has 1 null values\n",
            "NPOLD3 has 1 null values\n",
            "NPOLD4 has 1 null values\n",
            "NACCMICR has 1 null values\n",
            "NPOLDD has 1 null values\n",
            "NPOLDD1 has 1 null values\n",
            "NPOLDD2 has 1 null values\n",
            "NPOLDD3 has 1 null values\n",
            "NPOLDD4 has 1 null values\n",
            "NACCHEM has 1 null values\n",
            "NACCARTE has 1 null values\n",
            "NPWMR has 1 null values\n",
            "NPPATH has 1 null values\n",
            "NACCNEC has 1 null values\n",
            "NPPATH2 has 1 null values\n",
            "NPPATH3 has 1 null values\n",
            "NPPATH4 has 1 null values\n",
            "NPPATH5 has 1 null values\n",
            "NPPATH6 has 1 null values\n",
            "NPPATH7 has 1 null values\n",
            "NPPATH8 has 1 null values\n",
            "NPPATH9 has 1 null values\n",
            "NPPATH10 has 1 null values\n",
            "NPPATH11 has 1 null values\n",
            "NPPATHO has 1 null values\n",
            "NPPATHOX has 1989 null values\n",
            "NPART has 1 null values\n",
            "NPOANG has 1 null values\n",
            "NACCLEWY has 1 null values\n",
            "NPLBOD has 1 null values\n",
            "NPNLOSS has 1 null values\n",
            "NPHIPSCL has 1 null values\n",
            "NPSCL has 1 null values\n",
            "NPFTDTAU has 1 null values\n",
            "NACCPICK has 1 null values\n",
            "NPFTDT2 has 1 null values\n",
            "NACCCBD has 1 null values\n",
            "NACCPROG has 1 null values\n",
            "NPFTDT5 has 1 null values\n",
            "NPFTDT6 has 1 null values\n",
            "NPFTDT7 has 1 null values\n",
            "NPFTDT8 has 1 null values\n",
            "NPFTDT9 has 1 null values\n",
            "NPFTDT10 has 1 null values\n",
            "NPFRONT has 1 null values\n",
            "NPTAU has 1 null values\n",
            "NPFTD has 1 null values\n",
            "NPFTDTDP has 1 null values\n",
            "NPALSMND has 1 null values\n",
            "NPOFTD has 1 null values\n",
            "NPOFTD1 has 1 null values\n",
            "NPOFTD2 has 1 null values\n",
            "NPOFTD3 has 1 null values\n",
            "NPOFTD4 has 1 null values\n",
            "NPOFTD5 has 1 null values\n",
            "NPFTDNO has 1 null values\n",
            "NPFTDSPC has 1 null values\n",
            "NPTDPA has 1 null values\n",
            "NPTDPB has 1 null values\n",
            "NPTDPC has 1 null values\n",
            "NPTDPD has 1 null values\n",
            "NPTDPE has 1 null values\n",
            "NPPDXA has 1 null values\n",
            "NPPDXB has 1 null values\n",
            "NACCPRIO has 1 null values\n",
            "NPPDXD has 1 null values\n",
            "NPPDXE has 1 null values\n",
            "NPPDXF has 1 null values\n",
            "NPPDXG has 1 null values\n",
            "NPPDXH has 1 null values\n",
            "NPPDXI has 1 null values\n",
            "NPPDXJ has 1 null values\n",
            "NPPDXK has 1 null values\n",
            "NPPDXL has 1 null values\n",
            "NPPDXM has 1 null values\n",
            "NPPDXN has 1 null values\n",
            "NACCDOWN has 1 null values\n",
            "NPPDXP has 1 null values\n",
            "NPPDXQ has 1 null values\n",
            "NACCOTHP has 1 null values\n",
            "NACCWRI1 has 1915 null values\n",
            "NACCWRI2 has 2029 null values\n",
            "NACCWRI3 has 2038 null values\n",
            "NACCBNKF has 1 null values\n",
            "NPBNKB has 1 null values\n",
            "NACCFORM has 1 null values\n",
            "NACCPARA has 1 null values\n",
            "NACCCSFP has 1 null values\n",
            "NPBNKF has 1 null values\n",
            "NPFAUT has 1 null values\n",
            "NPFAUT1 has 1995 null values\n",
            "NPFAUT2 has 1995 null values\n",
            "NPFAUT3 has 1995 null values\n",
            "NPFAUT4 has 1995 null values\n",
            "NACCDAGE has 1 null values\n",
            "NACCINT has 1 null values\n",
            "NPNIT has 221 null values\n",
            "NPCERAD has 221 null values\n",
            "NPADRDA has 221 null values\n",
            "NPOCRIT has 221 null values\n",
            "NPVOTH has 221 null values\n",
            "NPLEWYCS has 221 null values\n",
            "NPGENE has 221 null values\n",
            "NPFHSPEC has 2021 null values\n",
            "NPTAUHAP has 221 null values\n",
            "NPPRNP has 221 null values\n",
            "NPCHROM has 221 null values\n",
            "NPPNORM has 221 null values\n",
            "NPCNORM has 221 null values\n",
            "NPPADP has 221 null values\n",
            "NPCADP has 221 null values\n",
            "NPPAD has 221 null values\n",
            "NPCAD has 221 null values\n",
            "NPPLEWY has 221 null values\n",
            "NPCLEWY has 221 null values\n",
            "NPPVASC has 221 null values\n",
            "NPCVASC has 221 null values\n",
            "NPPFTLD has 221 null values\n",
            "NPCFTLD has 221 null values\n",
            "NPPHIPP has 221 null values\n",
            "NPCHIPP has 221 null values\n",
            "NPPPRION has 221 null values\n",
            "NPCPRION has 221 null values\n",
            "NPPOTH1 has 221 null values\n",
            "NPCOTH1 has 221 null values\n",
            "NPOTH1X has 2034 null values\n",
            "NPPOTH2 has 221 null values\n",
            "NPCOTH2 has 221 null values\n",
            "NPOTH2X has 2037 null values\n",
            "NPPOTH3 has 221 null values\n",
            "NPCOTH3 has 221 null values\n",
            "NPOTH3X has 2038 null values\n",
            "NPARTAG has 1 null values\n",
            "NPATGSEV has 1 null values\n",
            "NPATGAMY has 1 null values\n",
            "NPATGAM1 has 1 null values\n",
            "NPATGAM2 has 1 null values\n",
            "NPATGAM3 has 1 null values\n",
            "NPATGAM4 has 1 null values\n",
            "NPATGAM5 has 1 null values\n",
            "NPATGFRN has 1 null values\n",
            "NPATGFR1 has 1 null values\n",
            "NPATGFR2 has 1 null values\n",
            "NPATGFR3 has 1 null values\n",
            "NPATGFR4 has 1 null values\n"
          ]
        }
      ]
    },
    {
      "cell_type": "markdown",
      "source": [
        "#### Fill column null values with appropriate value."
      ],
      "metadata": {
        "id": "CojAEzY4FNu2"
      }
    },
    {
      "cell_type": "code",
      "source": [
        "# there is only one row missing this value so drop it\n",
        "df.dropna(subset=['NPATGFR4'], inplace=True)\n",
        "\n",
        "# handle all other missing values according to data dictionary\n",
        "df['OTHCOND'].fillna(0, inplace=True)\n",
        "df['HISPORX'].fillna(0, inplace=True)\n",
        "df['RACEX'].fillna(0, inplace=True)\n",
        "df['RACESECX'].fillna(0, inplace=True)\n",
        "df['RACETERX'].fillna(0, inplace=True)\n",
        "df['PRIMLANX'].fillna(0, inplace=True)\n",
        "df['INHISPOX'].fillna(0, inplace=True)\n",
        "df['INRACEX'].fillna(0, inplace=True)\n",
        "df['INRASECX'].fillna(0, inplace=True)\n",
        "df['INRATERX'].fillna(0, inplace=True)\n",
        "df['INRELTOX'].fillna(0, inplace=True)\n",
        "df['NACCAMX'].fillna(0, inplace=True)\n",
        "df['NACCAMSX'].fillna(0, inplace=True)\n",
        "df['NACCFMX'].fillna(0, inplace=True)\n",
        "df['NACCFMSX'].fillna(0, inplace=True)\n",
        "df['NACCOMX'].fillna(0, inplace=True)\n",
        "df['NACCOMSX'].fillna(0, inplace=True)\n",
        "df['CVOTHRX'].fillna(0, inplace=True)\n",
        "df['RESPOTHX'].fillna(\"other\", inplace=True)\n",
        "df['NCOTHRX'].fillna(\"other\", inplace=True)\n",
        "\n",
        "df['DRUG1'].fillna(\"none\", inplace=True)\n",
        "df['DRUG2'].fillna(\"none\", inplace=True)\n",
        "df['DRUG3'].fillna(\"none\", inplace=True)\n",
        "df['DRUG4'].fillna(\"none\", inplace=True)\n",
        "df['DRUG5'].fillna(\"none\", inplace=True)\n",
        "df['DRUG6'].fillna(\"none\", inplace=True)\n",
        "df['DRUG7'].fillna(\"none\", inplace=True)\n",
        "df['DRUG8'].fillna(\"none\", inplace=True)\n",
        "df['DRUG9'].fillna(\"none\", inplace=True)\n",
        "df['DRUG10'].fillna(\"none\", inplace=True)\n",
        "df['DRUG11'].fillna(\"none\", inplace=True)\n",
        "df['DRUG12'].fillna(\"none\", inplace=True)\n",
        "df['DRUG13'].fillna(\"none\", inplace=True)\n",
        "df['DRUG14'].fillna(\"none\", inplace=True)\n",
        "df['DRUG15'].fillna(\"none\", inplace=True)\n",
        "df['DRUG16'].fillna(\"none\", inplace=True)\n",
        "df['DRUG17'].fillna(\"none\", inplace=True)\n",
        "df['DRUG18'].fillna(\"none\", inplace=True)\n",
        "df['DRUG19'].fillna(\"none\", inplace=True)\n",
        "df['DRUG20'].fillna(\"none\", inplace=True)\n",
        "df['DRUG21'].fillna(\"none\", inplace=True)\n",
        "df['DRUG22'].fillna(\"none\", inplace=True)\n",
        "df['DRUG23'].fillna(\"none\", inplace=True)\n",
        "df['DRUG24'].fillna(\"none\", inplace=True)\n",
        "df['DRUG25'].fillna(\"none\", inplace=True)\n",
        "df['DRUG26'].fillna(\"none\", inplace=True)\n",
        "df['DRUG27'].fillna(\"none\", inplace=True)\n",
        "df['DRUG28'].fillna(\"none\", inplace=True)\n",
        "df['DRUG29'].fillna(\"none\", inplace=True)\n",
        "df['DRUG30'].fillna(\"none\", inplace=True)\n",
        "df['DRUG31'].fillna(\"none\", inplace=True)\n",
        "df['DRUG32'].fillna(\"none\", inplace=True)\n",
        "df['DRUG33'].fillna(\"none\", inplace=True)\n",
        "df['DRUG34'].fillna(\"none\", inplace=True)\n",
        "df['DRUG35'].fillna(\"none\", inplace=True)\n",
        "df['DRUG36'].fillna(\"none\", inplace=True)\n",
        "df['DRUG37'].fillna(\"none\", inplace=True)\n",
        "df['DRUG38'].fillna(\"none\", inplace=True)\n",
        "df['DRUG39'].fillna(\"none\", inplace=True)\n",
        "df['DRUG40'].fillna(\"none\", inplace=True)\n",
        "df['ARTHTYPX'].fillna(\"none\", inplace=True)\n",
        "df['OTHSLEEX'].fillna(\"none\", inplace=True)\n",
        "df['ABUSX'].fillna(\"none\", inplace=True)\n",
        "df['PSYCDISX'].fillna(\"none\", inplace=True)\n",
        "df['CVDIMAGX'].fillna(\"none\", inplace=True)\n",
        "df['SPEECHX'].fillna(\"none\", inplace=True)\n",
        "df['FACEXPX'].fillna(\"none\", inplace=True)\n",
        "df['TRESTFAX'].fillna(\"none\", inplace=True)\n",
        "df['TRESTRHX'].fillna(\"none\", inplace=True)\n",
        "df['TRESTLHX'].fillna(\"none\", inplace=True)\n",
        "df['TRESTRFX'].fillna(\"none\", inplace=True)\n",
        "df['TRESTLFX'].fillna(\"none\", inplace=True)\n",
        "df['TRACTRHX'].fillna(\"none\", inplace=True)\n",
        "df['TRACTLHX'].fillna(\"none\", inplace=True)\n",
        "df['RIGDNEX'].fillna(\"none\", inplace=True)\n",
        "df['RIGDUPRX'].fillna(\"none\", inplace=True)\n",
        "df['RIGDUPLX'].fillna(\"none\", inplace=True)\n",
        "df['RIGDLORX'].fillna(\"none\", inplace=True)\n",
        "df['RIGDLOLX'].fillna(\"none\", inplace=True)\n",
        "df['TAPSRTX'].fillna(\"none\", inplace=True)\n",
        "df['TAPSLFX'].fillna(\"none\", inplace=True)\n",
        "df['HANDMVRX'].fillna(\"none\", inplace=True)\n",
        "df['HANDMVLX'].fillna(\"none\", inplace=True)\n",
        "df['HANDATRX'].fillna(\"none\", inplace=True)\n",
        "df['HANDATLX'].fillna(\"none\", inplace=True)\n",
        "df['LEGRTX'].fillna(\"none\", inplace=True)\n",
        "df['LEGLFX'].fillna(\"none\", inplace=True)\n",
        "df['ARISINGX'].fillna(\"none\", inplace=True)\n",
        "df['POSTUREX'].fillna(\"none\", inplace=True)\n",
        "df['GAITX'].fillna(\"none\", inplace=True)\n",
        "df['POSSTABX'].fillna(\"none\", inplace=True)\n",
        "df['BRADYKIX'].fillna(\"none\", inplace=True)\n",
        "df['NPIQINFX'].fillna(\"none\", inplace=True)\n",
        "df['OTHNEURX'].fillna(\"none\", inplace=True)\n",
        "df['COGOTHRX'].fillna(\"none\", inplace=True)\n",
        "df['NACCCGFX'].fillna(\"none\", inplace=True)\n",
        "df['COGMODEX'].fillna(\"none\", inplace=True)\n",
        "df['BEOTHRX'].fillna(\"none\", inplace=True)\n",
        "df['NACCBEFX'].fillna(\"none\", inplace=True)\n",
        "df['BEMODEX'].fillna(\"none\", inplace=True)\n",
        "df['MOMODEX'].fillna(\"none\", inplace=True)\n",
        "df['MMSELANX'].fillna(\"none\", inplace=True)\n",
        "df['NPSYLANX'].fillna(\"none\", inplace=True)\n",
        "df['MOCALANX'].fillna(\"none\", inplace=True)\n",
        "\n",
        "df['OTHBIOMX'].fillna(\"none\", inplace=True)\n",
        "df['OTHMUTX'].fillna(\"none\", inplace=True)\n",
        "df['FTLDSUBX'].fillna(\"none\", inplace=True)\n",
        "df['OTHCOGX'].fillna(\"none\", inplace=True)\n",
        "df['OTHPSYX'].fillna(\"none\", inplace=True)\n",
        "df['COGOTHX'].fillna(\"none\", inplace=True)\n",
        "df['COGOTH2X'].fillna(\"none\", inplace=True)\n",
        "df['COGOTH3X'].fillna(\"none\", inplace=True)\n",
        "df['CANCER'].fillna(-4, inplace=True)\n",
        "df['CANCSITE'].fillna(\"none\", inplace=True)\n",
        "\n",
        "df['NACCWRI1'].fillna(\"none\", inplace=True)\n",
        "df['NACCWRI2'].fillna(\"none\", inplace=True)\n",
        "df['NACCWRI3'].fillna(\"none\", inplace=True)\n",
        "df['NPFAUT1'].fillna(\"none\", inplace=True)\n",
        "df['NPFAUT2'].fillna(\"none\", inplace=True)\n",
        "df['NPFAUT3'].fillna(\"none\", inplace=True)\n",
        "df['NPFAUT4'].fillna(\"none\", inplace=True)\n",
        "df['NPNIT'].fillna(\"none\", inplace=True)\n",
        "df['NPCERAD'].fillna(\"none\", inplace=True)\n",
        "df['NPADRDA'].fillna(\"none\", inplace=True)\n",
        "df['NPOCRIT'].fillna(\"none\", inplace=True)\n",
        "df['NPVOTH'].fillna(\"none\", inplace=True)\n",
        "df['NPLEWYCS'].fillna(\"none\", inplace=True)\n",
        "df['NPGENE'].fillna(\"none\", inplace=True)\n",
        "df['NPFHSPEC'].fillna(\"none\", inplace=True)\n",
        "df['NPTAUHAP'].fillna(\"none\", inplace=True)\n",
        "df['NPPRNP'].fillna(\"none\", inplace=True)\n",
        "df['NPCHROM'].fillna(\"none\", inplace=True)\n",
        "df['NPPNORM'].fillna(\"none\", inplace=True)\n",
        "df['NPCNORM'].fillna(\"none\", inplace=True)\n",
        "df['NPPADP'].fillna(\"none\", inplace=True)\n",
        "df['NPCADP'].fillna(\"none\", inplace=True)\n",
        "df['NPPAD'].fillna(\"none\", inplace=True)\n",
        "df['NPCAD'].fillna(\"none\", inplace=True)\n",
        "df['NPPLEWY'].fillna(\"none\", inplace=True)\n",
        "df['NPCLEWY'].fillna(\"none\", inplace=True)\n",
        "df['NPPVASC'].fillna(\"none\", inplace=True)\n",
        "df['NPCVASC'].fillna(\"none\", inplace=True)\n",
        "df['NPPFTLD'].fillna(\"none\", inplace=True)\n",
        "df['NPCFTLD'].fillna(\"none\", inplace=True)\n",
        "df['NPPHIPP'].fillna(\"none\", inplace=True)\n",
        "df['NPCHIPP'].fillna(\"none\", inplace=True)\n",
        "df['NPPPRION'].fillna(\"none\", inplace=True)\n",
        "df['NPCPRION'].fillna(\"none\", inplace=True)\n",
        "df['NPPOTH1'].fillna(\"none\", inplace=True)\n",
        "df['NPCOTH1'].fillna(\"none\", inplace=True)\n",
        "df['NPOTH1X'].fillna(\"none\", inplace=True)\n",
        "df['NPPOTH2'].fillna(\"none\", inplace=True)\n",
        "df['NPCOTH2'].fillna(\"none\", inplace=True)\n",
        "df['NPOTH2X'].fillna(\"none\", inplace=True)\n",
        "df['NPPOTH3'].fillna(\"none\", inplace=True)\n",
        "df['NPCOTH3'].fillna(\"none\", inplace=True)\n",
        "df['NPOTH3X'].fillna(\"none\", inplace=True)\n",
        "\n",
        "df['NPFIXX'].fillna(\"none\", inplace=True)\n",
        "df['NPTANX'].fillna(\"none\", inplace=True)\n",
        "df['NPABANX'].fillna(\"none\", inplace=True)\n",
        "df['NPASANX'].fillna(\"none\", inplace=True)\n",
        "df['NPTDPANX'].fillna(\"none\", inplace=True)\n",
        "df['NPPATHOX'].fillna(\"none\", inplace=True)\n",
        "df['NPPATHO'].fillna(\"none\", inplace=True)\n",
        "\n",
        "df['ARTYPEX'].fillna(\"none\", inplace=True)\n",
        "df['SLEEPOTX'].fillna(\"none\", inplace=True)\n",
        "df['ANTIENCX'].fillna(\"none\", inplace=True)\n",
        "df['OTHCONDX'].fillna(\"none\", inplace=True)\n",
        "df['NPHISOX'].fillna(\"none\", inplace=True)\n",
        "\n",
        "df['OTHNEUR'].fillna(0, inplace=True)\n",
        "df['HEIGHT'].fillna(df['HEIGHT'].mean(), inplace=True)\n",
        "df['WEIGHT'].fillna(df['WEIGHT'].mean(), inplace=True)\n",
        "df['BPSYS'].fillna(df['WEIGHT'].mean(), inplace=True)\n",
        "df['BPDIAS'].fillna(df['WEIGHT'].mean(), inplace=True)\n",
        "df['HRATE'].fillna(df['WEIGHT'].mean(), inplace=True)"
      ],
      "metadata": {
        "id": "MxLE3d8O8jiX"
      },
      "execution_count": 4,
      "outputs": []
    },
    {
      "cell_type": "code",
      "source": [
        "for column in df:\n",
        "    if df[column].isnull().any():\n",
        "        print('{0} has {1} null values'.format(column, df[column].isnull().sum()))"
      ],
      "metadata": {
        "id": "WNHSLQKUvzGr"
      },
      "execution_count": 5,
      "outputs": []
    },
    {
      "cell_type": "markdown",
      "source": [],
      "metadata": {
        "id": "yxAeYLqkFAEf"
      }
    },
    {
      "cell_type": "markdown",
      "source": [
        "#### Drop columns that provide additional diagnosis of dementia."
      ],
      "metadata": {
        "id": "nBSiVKYim4lv"
      }
    },
    {
      "cell_type": "code",
      "source": [
        "df.drop(columns=['NACCBVFT'], inplace=True)\n",
        "df.drop(columns=['NACCIDEM'], inplace=True)\n",
        "df.drop(columns=['NACCLBDS'], inplace=True)\n",
        "df.drop(columns=['NACCALZD'], inplace=True)\n",
        "df.drop(columns=['NACCALZP'], inplace=True)\n",
        "df.drop(columns=['NACCPPAG'], inplace=True)\n",
        "df.drop(columns=['PROBAD'], inplace=True)\n",
        "df.drop(columns=['PROBADIF'], inplace=True)\n",
        "df.drop(columns=['POSSAD'], inplace=True)\n",
        "df.drop(columns=['POSSADIF'], inplace=True)"
      ],
      "metadata": {
        "id": "R9SQVXvuE9yp"
      },
      "execution_count": 6,
      "outputs": []
    },
    {
      "cell_type": "code",
      "source": [
        "df.head()"
      ],
      "metadata": {
        "colab": {
          "base_uri": "https://localhost:8080/",
          "height": 256
        },
        "id": "MjXggUek6X9N",
        "outputId": "6bf66fdc-8323-4dde-b750-3d968e06ca00"
      },
      "execution_count": 7,
      "outputs": [
        {
          "output_type": "execute_result",
          "data": {
            "text/plain": [
              "       NACCID  NACCADC PACKET  FORMVER  VISITMO  VISITDAY  VISITYR  NACCVNUM  \\\n",
              "0  NACC002909      186      I      3.0       12        28     2022         1   \n",
              "1  NACC004352      186      I      3.0       10         5     2021         1   \n",
              "2  NACC004687      186      I      3.0       11        14     2022         1   \n",
              "3  NACC007213      186      I      3.0        5        24     2023         1   \n",
              "4  NACC008514      186      I      3.0       11        15     2022         1   \n",
              "\n",
              "   NACCAVST  NACCNVST  ...  NPATGAM1  NPATGAM2  NPATGAM3  NPATGAM4  NPATGAM5  \\\n",
              "0         1         1  ...      -4.0      -4.0      -4.0      -4.0      -4.0   \n",
              "1         1         1  ...      -4.0      -4.0      -4.0      -4.0      -4.0   \n",
              "2         1         1  ...      -4.0      -4.0      -4.0      -4.0      -4.0   \n",
              "3         1         1  ...      -4.0      -4.0      -4.0      -4.0      -4.0   \n",
              "4         1         1  ...      -4.0      -4.0      -4.0      -4.0      -4.0   \n",
              "\n",
              "   NPATGFRN  NPATGFR1  NPATGFR2  NPATGFR3  NPATGFR4  \n",
              "0      -4.0      -4.0      -4.0      -4.0      -4.0  \n",
              "1      -4.0      -4.0      -4.0      -4.0      -4.0  \n",
              "2      -4.0      -4.0      -4.0      -4.0      -4.0  \n",
              "3      -4.0      -4.0      -4.0      -4.0      -4.0  \n",
              "4      -4.0      -4.0      -4.0      -4.0      -4.0  \n",
              "\n",
              "[5 rows x 1014 columns]"
            ],
            "text/html": [
              "\n",
              "  <div id=\"df-4b50f963-ab8f-456e-98bb-3b362f2755a4\" class=\"colab-df-container\">\n",
              "    <div>\n",
              "<style scoped>\n",
              "    .dataframe tbody tr th:only-of-type {\n",
              "        vertical-align: middle;\n",
              "    }\n",
              "\n",
              "    .dataframe tbody tr th {\n",
              "        vertical-align: top;\n",
              "    }\n",
              "\n",
              "    .dataframe thead th {\n",
              "        text-align: right;\n",
              "    }\n",
              "</style>\n",
              "<table border=\"1\" class=\"dataframe\">\n",
              "  <thead>\n",
              "    <tr style=\"text-align: right;\">\n",
              "      <th></th>\n",
              "      <th>NACCID</th>\n",
              "      <th>NACCADC</th>\n",
              "      <th>PACKET</th>\n",
              "      <th>FORMVER</th>\n",
              "      <th>VISITMO</th>\n",
              "      <th>VISITDAY</th>\n",
              "      <th>VISITYR</th>\n",
              "      <th>NACCVNUM</th>\n",
              "      <th>NACCAVST</th>\n",
              "      <th>NACCNVST</th>\n",
              "      <th>...</th>\n",
              "      <th>NPATGAM1</th>\n",
              "      <th>NPATGAM2</th>\n",
              "      <th>NPATGAM3</th>\n",
              "      <th>NPATGAM4</th>\n",
              "      <th>NPATGAM5</th>\n",
              "      <th>NPATGFRN</th>\n",
              "      <th>NPATGFR1</th>\n",
              "      <th>NPATGFR2</th>\n",
              "      <th>NPATGFR3</th>\n",
              "      <th>NPATGFR4</th>\n",
              "    </tr>\n",
              "  </thead>\n",
              "  <tbody>\n",
              "    <tr>\n",
              "      <th>0</th>\n",
              "      <td>NACC002909</td>\n",
              "      <td>186</td>\n",
              "      <td>I</td>\n",
              "      <td>3.0</td>\n",
              "      <td>12</td>\n",
              "      <td>28</td>\n",
              "      <td>2022</td>\n",
              "      <td>1</td>\n",
              "      <td>1</td>\n",
              "      <td>1</td>\n",
              "      <td>...</td>\n",
              "      <td>-4.0</td>\n",
              "      <td>-4.0</td>\n",
              "      <td>-4.0</td>\n",
              "      <td>-4.0</td>\n",
              "      <td>-4.0</td>\n",
              "      <td>-4.0</td>\n",
              "      <td>-4.0</td>\n",
              "      <td>-4.0</td>\n",
              "      <td>-4.0</td>\n",
              "      <td>-4.0</td>\n",
              "    </tr>\n",
              "    <tr>\n",
              "      <th>1</th>\n",
              "      <td>NACC004352</td>\n",
              "      <td>186</td>\n",
              "      <td>I</td>\n",
              "      <td>3.0</td>\n",
              "      <td>10</td>\n",
              "      <td>5</td>\n",
              "      <td>2021</td>\n",
              "      <td>1</td>\n",
              "      <td>1</td>\n",
              "      <td>1</td>\n",
              "      <td>...</td>\n",
              "      <td>-4.0</td>\n",
              "      <td>-4.0</td>\n",
              "      <td>-4.0</td>\n",
              "      <td>-4.0</td>\n",
              "      <td>-4.0</td>\n",
              "      <td>-4.0</td>\n",
              "      <td>-4.0</td>\n",
              "      <td>-4.0</td>\n",
              "      <td>-4.0</td>\n",
              "      <td>-4.0</td>\n",
              "    </tr>\n",
              "    <tr>\n",
              "      <th>2</th>\n",
              "      <td>NACC004687</td>\n",
              "      <td>186</td>\n",
              "      <td>I</td>\n",
              "      <td>3.0</td>\n",
              "      <td>11</td>\n",
              "      <td>14</td>\n",
              "      <td>2022</td>\n",
              "      <td>1</td>\n",
              "      <td>1</td>\n",
              "      <td>1</td>\n",
              "      <td>...</td>\n",
              "      <td>-4.0</td>\n",
              "      <td>-4.0</td>\n",
              "      <td>-4.0</td>\n",
              "      <td>-4.0</td>\n",
              "      <td>-4.0</td>\n",
              "      <td>-4.0</td>\n",
              "      <td>-4.0</td>\n",
              "      <td>-4.0</td>\n",
              "      <td>-4.0</td>\n",
              "      <td>-4.0</td>\n",
              "    </tr>\n",
              "    <tr>\n",
              "      <th>3</th>\n",
              "      <td>NACC007213</td>\n",
              "      <td>186</td>\n",
              "      <td>I</td>\n",
              "      <td>3.0</td>\n",
              "      <td>5</td>\n",
              "      <td>24</td>\n",
              "      <td>2023</td>\n",
              "      <td>1</td>\n",
              "      <td>1</td>\n",
              "      <td>1</td>\n",
              "      <td>...</td>\n",
              "      <td>-4.0</td>\n",
              "      <td>-4.0</td>\n",
              "      <td>-4.0</td>\n",
              "      <td>-4.0</td>\n",
              "      <td>-4.0</td>\n",
              "      <td>-4.0</td>\n",
              "      <td>-4.0</td>\n",
              "      <td>-4.0</td>\n",
              "      <td>-4.0</td>\n",
              "      <td>-4.0</td>\n",
              "    </tr>\n",
              "    <tr>\n",
              "      <th>4</th>\n",
              "      <td>NACC008514</td>\n",
              "      <td>186</td>\n",
              "      <td>I</td>\n",
              "      <td>3.0</td>\n",
              "      <td>11</td>\n",
              "      <td>15</td>\n",
              "      <td>2022</td>\n",
              "      <td>1</td>\n",
              "      <td>1</td>\n",
              "      <td>1</td>\n",
              "      <td>...</td>\n",
              "      <td>-4.0</td>\n",
              "      <td>-4.0</td>\n",
              "      <td>-4.0</td>\n",
              "      <td>-4.0</td>\n",
              "      <td>-4.0</td>\n",
              "      <td>-4.0</td>\n",
              "      <td>-4.0</td>\n",
              "      <td>-4.0</td>\n",
              "      <td>-4.0</td>\n",
              "      <td>-4.0</td>\n",
              "    </tr>\n",
              "  </tbody>\n",
              "</table>\n",
              "<p>5 rows × 1014 columns</p>\n",
              "</div>\n",
              "    <div class=\"colab-df-buttons\">\n",
              "\n",
              "  <div class=\"colab-df-container\">\n",
              "    <button class=\"colab-df-convert\" onclick=\"convertToInteractive('df-4b50f963-ab8f-456e-98bb-3b362f2755a4')\"\n",
              "            title=\"Convert this dataframe to an interactive table.\"\n",
              "            style=\"display:none;\">\n",
              "\n",
              "  <svg xmlns=\"http://www.w3.org/2000/svg\" height=\"24px\" viewBox=\"0 -960 960 960\">\n",
              "    <path d=\"M120-120v-720h720v720H120Zm60-500h600v-160H180v160Zm220 220h160v-160H400v160Zm0 220h160v-160H400v160ZM180-400h160v-160H180v160Zm440 0h160v-160H620v160ZM180-180h160v-160H180v160Zm440 0h160v-160H620v160Z\"/>\n",
              "  </svg>\n",
              "    </button>\n",
              "\n",
              "  <style>\n",
              "    .colab-df-container {\n",
              "      display:flex;\n",
              "      gap: 12px;\n",
              "    }\n",
              "\n",
              "    .colab-df-convert {\n",
              "      background-color: #E8F0FE;\n",
              "      border: none;\n",
              "      border-radius: 50%;\n",
              "      cursor: pointer;\n",
              "      display: none;\n",
              "      fill: #1967D2;\n",
              "      height: 32px;\n",
              "      padding: 0 0 0 0;\n",
              "      width: 32px;\n",
              "    }\n",
              "\n",
              "    .colab-df-convert:hover {\n",
              "      background-color: #E2EBFA;\n",
              "      box-shadow: 0px 1px 2px rgba(60, 64, 67, 0.3), 0px 1px 3px 1px rgba(60, 64, 67, 0.15);\n",
              "      fill: #174EA6;\n",
              "    }\n",
              "\n",
              "    .colab-df-buttons div {\n",
              "      margin-bottom: 4px;\n",
              "    }\n",
              "\n",
              "    [theme=dark] .colab-df-convert {\n",
              "      background-color: #3B4455;\n",
              "      fill: #D2E3FC;\n",
              "    }\n",
              "\n",
              "    [theme=dark] .colab-df-convert:hover {\n",
              "      background-color: #434B5C;\n",
              "      box-shadow: 0px 1px 3px 1px rgba(0, 0, 0, 0.15);\n",
              "      filter: drop-shadow(0px 1px 2px rgba(0, 0, 0, 0.3));\n",
              "      fill: #FFFFFF;\n",
              "    }\n",
              "  </style>\n",
              "\n",
              "    <script>\n",
              "      const buttonEl =\n",
              "        document.querySelector('#df-4b50f963-ab8f-456e-98bb-3b362f2755a4 button.colab-df-convert');\n",
              "      buttonEl.style.display =\n",
              "        google.colab.kernel.accessAllowed ? 'block' : 'none';\n",
              "\n",
              "      async function convertToInteractive(key) {\n",
              "        const element = document.querySelector('#df-4b50f963-ab8f-456e-98bb-3b362f2755a4');\n",
              "        const dataTable =\n",
              "          await google.colab.kernel.invokeFunction('convertToInteractive',\n",
              "                                                    [key], {});\n",
              "        if (!dataTable) return;\n",
              "\n",
              "        const docLinkHtml = 'Like what you see? Visit the ' +\n",
              "          '<a target=\"_blank\" href=https://colab.research.google.com/notebooks/data_table.ipynb>data table notebook</a>'\n",
              "          + ' to learn more about interactive tables.';\n",
              "        element.innerHTML = '';\n",
              "        dataTable['output_type'] = 'display_data';\n",
              "        await google.colab.output.renderOutput(dataTable, element);\n",
              "        const docLink = document.createElement('div');\n",
              "        docLink.innerHTML = docLinkHtml;\n",
              "        element.appendChild(docLink);\n",
              "      }\n",
              "    </script>\n",
              "  </div>\n",
              "\n",
              "\n",
              "<div id=\"df-f6dc35c4-6b86-4836-a2de-4f6392942671\">\n",
              "  <button class=\"colab-df-quickchart\" onclick=\"quickchart('df-f6dc35c4-6b86-4836-a2de-4f6392942671')\"\n",
              "            title=\"Suggest charts\"\n",
              "            style=\"display:none;\">\n",
              "\n",
              "<svg xmlns=\"http://www.w3.org/2000/svg\" height=\"24px\"viewBox=\"0 0 24 24\"\n",
              "     width=\"24px\">\n",
              "    <g>\n",
              "        <path d=\"M19 3H5c-1.1 0-2 .9-2 2v14c0 1.1.9 2 2 2h14c1.1 0 2-.9 2-2V5c0-1.1-.9-2-2-2zM9 17H7v-7h2v7zm4 0h-2V7h2v10zm4 0h-2v-4h2v4z\"/>\n",
              "    </g>\n",
              "</svg>\n",
              "  </button>\n",
              "\n",
              "<style>\n",
              "  .colab-df-quickchart {\n",
              "      --bg-color: #E8F0FE;\n",
              "      --fill-color: #1967D2;\n",
              "      --hover-bg-color: #E2EBFA;\n",
              "      --hover-fill-color: #174EA6;\n",
              "      --disabled-fill-color: #AAA;\n",
              "      --disabled-bg-color: #DDD;\n",
              "  }\n",
              "\n",
              "  [theme=dark] .colab-df-quickchart {\n",
              "      --bg-color: #3B4455;\n",
              "      --fill-color: #D2E3FC;\n",
              "      --hover-bg-color: #434B5C;\n",
              "      --hover-fill-color: #FFFFFF;\n",
              "      --disabled-bg-color: #3B4455;\n",
              "      --disabled-fill-color: #666;\n",
              "  }\n",
              "\n",
              "  .colab-df-quickchart {\n",
              "    background-color: var(--bg-color);\n",
              "    border: none;\n",
              "    border-radius: 50%;\n",
              "    cursor: pointer;\n",
              "    display: none;\n",
              "    fill: var(--fill-color);\n",
              "    height: 32px;\n",
              "    padding: 0;\n",
              "    width: 32px;\n",
              "  }\n",
              "\n",
              "  .colab-df-quickchart:hover {\n",
              "    background-color: var(--hover-bg-color);\n",
              "    box-shadow: 0 1px 2px rgba(60, 64, 67, 0.3), 0 1px 3px 1px rgba(60, 64, 67, 0.15);\n",
              "    fill: var(--button-hover-fill-color);\n",
              "  }\n",
              "\n",
              "  .colab-df-quickchart-complete:disabled,\n",
              "  .colab-df-quickchart-complete:disabled:hover {\n",
              "    background-color: var(--disabled-bg-color);\n",
              "    fill: var(--disabled-fill-color);\n",
              "    box-shadow: none;\n",
              "  }\n",
              "\n",
              "  .colab-df-spinner {\n",
              "    border: 2px solid var(--fill-color);\n",
              "    border-color: transparent;\n",
              "    border-bottom-color: var(--fill-color);\n",
              "    animation:\n",
              "      spin 1s steps(1) infinite;\n",
              "  }\n",
              "\n",
              "  @keyframes spin {\n",
              "    0% {\n",
              "      border-color: transparent;\n",
              "      border-bottom-color: var(--fill-color);\n",
              "      border-left-color: var(--fill-color);\n",
              "    }\n",
              "    20% {\n",
              "      border-color: transparent;\n",
              "      border-left-color: var(--fill-color);\n",
              "      border-top-color: var(--fill-color);\n",
              "    }\n",
              "    30% {\n",
              "      border-color: transparent;\n",
              "      border-left-color: var(--fill-color);\n",
              "      border-top-color: var(--fill-color);\n",
              "      border-right-color: var(--fill-color);\n",
              "    }\n",
              "    40% {\n",
              "      border-color: transparent;\n",
              "      border-right-color: var(--fill-color);\n",
              "      border-top-color: var(--fill-color);\n",
              "    }\n",
              "    60% {\n",
              "      border-color: transparent;\n",
              "      border-right-color: var(--fill-color);\n",
              "    }\n",
              "    80% {\n",
              "      border-color: transparent;\n",
              "      border-right-color: var(--fill-color);\n",
              "      border-bottom-color: var(--fill-color);\n",
              "    }\n",
              "    90% {\n",
              "      border-color: transparent;\n",
              "      border-bottom-color: var(--fill-color);\n",
              "    }\n",
              "  }\n",
              "</style>\n",
              "\n",
              "  <script>\n",
              "    async function quickchart(key) {\n",
              "      const quickchartButtonEl =\n",
              "        document.querySelector('#' + key + ' button');\n",
              "      quickchartButtonEl.disabled = true;  // To prevent multiple clicks.\n",
              "      quickchartButtonEl.classList.add('colab-df-spinner');\n",
              "      try {\n",
              "        const charts = await google.colab.kernel.invokeFunction(\n",
              "            'suggestCharts', [key], {});\n",
              "      } catch (error) {\n",
              "        console.error('Error during call to suggestCharts:', error);\n",
              "      }\n",
              "      quickchartButtonEl.classList.remove('colab-df-spinner');\n",
              "      quickchartButtonEl.classList.add('colab-df-quickchart-complete');\n",
              "    }\n",
              "    (() => {\n",
              "      let quickchartButtonEl =\n",
              "        document.querySelector('#df-f6dc35c4-6b86-4836-a2de-4f6392942671 button');\n",
              "      quickchartButtonEl.style.display =\n",
              "        google.colab.kernel.accessAllowed ? 'block' : 'none';\n",
              "    })();\n",
              "  </script>\n",
              "</div>\n",
              "\n",
              "    </div>\n",
              "  </div>\n"
            ],
            "application/vnd.google.colaboratory.intrinsic+json": {
              "type": "dataframe",
              "variable_name": "df"
            }
          },
          "metadata": {},
          "execution_count": 7
        }
      ]
    },
    {
      "cell_type": "markdown",
      "source": [
        "#### Plot total number of patients and patients with dementia over time."
      ],
      "metadata": {
        "id": "A6WgsiokngFV"
      }
    },
    {
      "cell_type": "code",
      "source": [
        "demented = df.loc[df['DEMENTED'] == 1]\n",
        "\n",
        "demented = demented.rename(columns={\"VISITYR\": \"year\", \"VISITMO\": \"month\",\n",
        "                                    \"VISITDAY\": \"day\"})\n",
        "all_patients = df.rename(columns={\"VISITYR\": \"year\", \"VISITMO\": \"month\",\n",
        "                                  \"VISITDAY\": \"day\"})\n",
        "\n",
        "demented['VISIT_DATE'] = pd.to_datetime(demented[['year','month','day']])\n",
        "all_patients['VISIT_DATE'] = pd.to_datetime(all_patients[['year','month',\n",
        "                                                          'day']])\n",
        "\n",
        "demented=demented.sort_values(by='VISIT_DATE')\n",
        "all_patients=all_patients.sort_values(by='VISIT_DATE')\n",
        "\n",
        "ct = all_patients.groupby(all_patients['VISIT_DATE'].dt.year)\\\n",
        "  ['DEMENTED'].count()\n",
        "gp = demented.groupby(demented['VISIT_DATE'].dt.year)['DEMENTED'].sum()\n",
        "\n",
        "# plot\n",
        "ct.plot.line(label = \"All Patients\")\n",
        "gp.plot.line(label = \"Patients with Dementia\")\n",
        "plt.legend()\n",
        "plt.xlabel(\"Year\")\n",
        "plt.ylabel(\"Number of Patients\")\n",
        "plt.xticks(rotation=45)\n",
        "plt.show()"
      ],
      "metadata": {
        "colab": {
          "base_uri": "https://localhost:8080/",
          "height": 479
        },
        "id": "KfT6VX8CHqsG",
        "outputId": "3761da42-61e6-4166-d74d-255179e39f1d"
      },
      "execution_count": 8,
      "outputs": [
        {
          "output_type": "display_data",
          "data": {
            "text/plain": [
              "<Figure size 640x480 with 1 Axes>"
            ],
            "image/png": "[encoded data removed]"
          },
          "metadata": {}
        }
      ]
    },
    {
      "cell_type": "markdown",
      "source": [
        "### Dementia cases by race."
      ],
      "metadata": {
        "id": "HVuaCHBi0eZC"
      }
    },
    {
      "cell_type": "code",
      "source": [
        "fig, ax = plt.subplots()\n",
        "df.groupby('RACE')['DEMENTED'].value_counts(normalize=True).\\\n",
        "  mul(100).round(2).unstack().plot(kind='barh', ax=ax)\n",
        "ax.legend([\"negative\", \"positive\"]);\n",
        "ax.set_xlabel(\"Number of Patients\")\n",
        "ax.set_title(\"Dementia by Race\")"
      ],
      "metadata": {
        "colab": {
          "base_uri": "https://localhost:8080/",
          "height": 489
        },
        "id": "GsWdsqYr84bn",
        "outputId": "005ac378-ebac-4f10-9e2d-026ea1e35eca"
      },
      "execution_count": 18,
      "outputs": [
        {
          "output_type": "execute_result",
          "data": {
            "text/plain": [
              "Text(0.5, 1.0, 'Dementia by Race')"
            ]
          },
          "metadata": {},
          "execution_count": 18
        },
        {
          "output_type": "display_data",
          "data": {
            "text/plain": [
              "<Figure size 640x480 with 1 Axes>"
            ],
            "image/png": "[encoded data removed]"
          },
          "metadata": {}
        }
      ]
    },
    {
      "cell_type": "markdown",
      "source": [],
      "metadata": {
        "id": "goG-Xo6IzeBG"
      }
    },
    {
      "cell_type": "markdown",
      "source": [
        "### Dementia cases by gender."
      ],
      "metadata": {
        "id": "6AMOz7Up0tDh"
      }
    },
    {
      "cell_type": "code",
      "source": [
        "fig, ax = plt.subplots()\n",
        "df.groupby('SEX')['DEMENTED'].value_counts(normalize=True).mul(100)\\\n",
        "  .round(2).unstack().plot(kind='barh', ax=ax)\n",
        "ax.legend([\"negative\", \"positive\"]);\n",
        "ax.set_xlabel(\"Number of Patients\")\n",
        "ax.set_ylabel(\"Gender\")\n",
        "ax.set_title(\"Dementia by Gender\")"
      ],
      "metadata": {
        "colab": {
          "base_uri": "https://localhost:8080/",
          "height": 489
        },
        "id": "B-b3eXDF88yZ",
        "outputId": "f451d13f-f740-4a7c-c4dd-0efe3a8c0648"
      },
      "execution_count": 19,
      "outputs": [
        {
          "output_type": "execute_result",
          "data": {
            "text/plain": [
              "Text(0.5, 1.0, 'Dementia by Gender')"
            ]
          },
          "metadata": {},
          "execution_count": 19
        },
        {
          "output_type": "display_data",
          "data": {
            "text/plain": [
              "<Figure size 640x480 with 1 Axes>"
            ],
            "image/png": "[encoded data removed]"
          },
          "metadata": {}
        }
      ]
    },
    {
      "cell_type": "markdown",
      "source": [
        "### Dementia cases by education level."
      ],
      "metadata": {
        "id": "n2ANFrCK0-8M"
      }
    },
    {
      "cell_type": "code",
      "source": [
        "rslt_df = df.loc[df['EDUC'] < 21]\n",
        "fig, ax = plt.subplots()\n",
        "rslt_df.groupby('EDUC')['DEMENTED'].value_counts(normalize=True)\\\n",
        "  .mul(100).round(2).unstack().plot(kind='barh', ax=ax)\n",
        "ax.legend([\"negative\", \"positive\"]);\n",
        "ax.set_ylabel(\"Level of Education\")\n",
        "ax.set_xlabel(\"Number of Patients\")\n",
        "ax.set_title(\"Dementia by Level of Education\")"
      ],
      "metadata": {
        "colab": {
          "base_uri": "https://localhost:8080/",
          "height": 489
        },
        "id": "Dp5ceVHN8-C9",
        "outputId": "6e5839fd-cddc-4037-9f9a-3dc11036f52f"
      },
      "execution_count": 11,
      "outputs": [
        {
          "output_type": "execute_result",
          "data": {
            "text/plain": [
              "Text(0.5, 1.0, 'Dementia by Level of Education')"
            ]
          },
          "metadata": {},
          "execution_count": 11
        },
        {
          "output_type": "display_data",
          "data": {
            "text/plain": [
              "<Figure size 640x480 with 1 Axes>"
            ],
            "image/png": "[encoded data removed]"
          },
          "metadata": {}
        }
      ]
    },
    {
      "cell_type": "markdown",
      "source": [
        "### Prepare data for machine learning."
      ],
      "metadata": {
        "id": "CIy2ZecJCLbI"
      }
    },
    {
      "cell_type": "code",
      "source": [
        "# convert categorical variables to numeric\n",
        "df_dummies = pd.get_dummies(df)"
      ],
      "metadata": {
        "id": "cnTBQj0gGcEE"
      },
      "execution_count": 12,
      "outputs": []
    },
    {
      "cell_type": "markdown",
      "source": [
        "#### Plot number of dementia cases by race over time."
      ],
      "metadata": {
        "id": "hlr0BeH-oB2j"
      }
    },
    {
      "cell_type": "code",
      "source": [
        "import pandas as pd\n",
        "import seaborn as sns\n",
        "import matplotlib.pyplot as plt\n",
        "\n",
        "df_grouped = df.groupby(['RACE', 'VISITYR'])['DEMENTED'].sum().reset_index()\n",
        "sns.lineplot(data=df_grouped, x='VISITYR', y='DEMENTED', hue='RACE')\n",
        "plt.show()"
      ],
      "metadata": {
        "colab": {
          "base_uri": "https://localhost:8080/",
          "height": 449
        },
        "id": "F-OTqoM3oYbN",
        "outputId": "0e3506ee-13e1-4c73-ae75-7cb7aadc03ac"
      },
      "execution_count": 13,
      "outputs": [
        {
          "output_type": "display_data",
          "data": {
            "text/plain": [
              "<Figure size 640x480 with 1 Axes>"
            ],
            "image/png": "[encoded data removed]"
          },
          "metadata": {}
        }
      ]
    },
    {
      "cell_type": "code",
      "source": [
        "# remove remaining rows with nulls from new dataframe\n",
        "df_dummies.dropna(inplace=True)"
      ],
      "metadata": {
        "id": "WjDngL_yn5SI"
      },
      "execution_count": 14,
      "outputs": []
    },
    {
      "cell_type": "markdown",
      "source": [
        "#### Split numeric data into test and train data sets."
      ],
      "metadata": {
        "id": "WhnsBCeloMpu"
      }
    },
    {
      "cell_type": "code",
      "source": [
        "from sklearn.model_selection import train_test_split\n",
        "\n",
        "# assign demented as target\n",
        "X = df_dummies.drop(['DEMENTED'],axis=1).values\n",
        "y = df_dummies['DEMENTED'].values\n",
        "\n",
        "X_col = df_dummies.drop(['DEMENTED'],axis=1)\n",
        "y_col = df_dummies['DEMENTED']\n",
        "\n",
        "# split data into training and test sets\n",
        "X_train, X_test, y_train, y_test = train_test_split(X, y,\n",
        "                                   random_state=104,\n",
        "                                   test_size=0.25,\n",
        "                                   shuffle=True)\n",
        "\n"
      ],
      "metadata": {
        "id": "W2yDRqY79CrX"
      },
      "execution_count": 15,
      "outputs": []
    },
    {
      "cell_type": "markdown",
      "source": [
        "#### Create and test a Linear Discriminant Analysis model."
      ],
      "metadata": {
        "id": "m4Mt24YOoVCM"
      }
    },
    {
      "cell_type": "code",
      "source": [
        "from sklearn.discriminant_analysis import LinearDiscriminantAnalysis as LDA\n",
        "clf = LDA(n_components=1)\n",
        "clf.fit_transform(X_train, y_train)\n",
        "\n",
        "from sklearn.discriminant_analysis import LinearDiscriminantAnalysis\n",
        "\n",
        "# Create an LDA instance\n",
        "lda = LinearDiscriminantAnalysis()\n",
        "lda.fit(X_train, y_train)\n",
        "y_pred = lda.predict(X_test)\n",
        "accuracy = lda.score(X_test, y_test)\n",
        "print(\"Accuracy: {:.2f}%\".format(accuracy * 100))"
      ],
      "metadata": {
        "id": "Cb6MQEMej0uj",
        "colab": {
          "base_uri": "https://localhost:8080/"
        },
        "outputId": "5d916015-d136-4608-83d7-08fff830b1c5"
      },
      "execution_count": 16,
      "outputs": [
        {
          "output_type": "stream",
          "name": "stdout",
          "text": [
            "Accuracy: 88.24%\n"
          ]
        }
      ]
    },
    {
      "cell_type": "markdown",
      "source": [
        "#### Create a Random Forest Classifier model and use grid search to find optimal parameters."
      ],
      "metadata": {
        "id": "t-tuu_hloicT"
      }
    },
    {
      "cell_type": "code",
      "source": [
        "from sklearn.ensemble import RandomForestClassifier\n",
        "from sklearn.model_selection import GridSearchCV\n",
        "\n",
        "# set up parameter search criteria\n",
        "param_grid = {\n",
        "    'n_estimators': [1, 5, 10, 20],\n",
        "    #'max_features': [100, 200, 400, 800],\n",
        "    'max_features': ['auto', 'sqrt', 'log2'],\n",
        "    'max_depth' : [1,2,4,8],\n",
        "    'criterion' :['gini', 'entropy']\n",
        "}\n",
        "\n",
        "# create model\n",
        "classifier = RandomForestClassifier(random_state=42)\n",
        "\n",
        "# use grid search to find optimal parameters\n",
        "gs = GridSearchCV(estimator=classifier, param_grid=param_grid, cv= 5)\n",
        "gs.fit(X_train, y_train)"
      ],
      "metadata": {
        "colab": {
          "base_uri": "https://localhost:8080/",
          "height": 118
        },
        "id": "Io4muLatH1o4",
        "outputId": "4c1bc34b-c5d2-407f-fbe0-215ee8897c32"
      },
      "execution_count": 17,
      "outputs": [
        {
          "output_type": "execute_result",
          "data": {
            "text/plain": [
              "GridSearchCV(cv=5, estimator=RandomForestClassifier(random_state=42),\n",
              "             param_grid={'criterion': ['gini', 'entropy'],\n",
              "                         'max_depth': [1, 2, 4, 8],\n",
              "                         'max_features': ['auto', 'sqrt', 'log2'],\n",
              "                         'n_estimators': [1, 5, 10, 20]})"
            ],
            "text/html": [
              "<style>#sk-container-id-1 {color: black;background-color: white;}#sk-container-id-1 pre{padding: 0;}#sk-container-id-1 div.sk-toggleable {background-color: white;}#sk-container-id-1 label.sk-toggleable__label {cursor: pointer;display: block;width: 100%;margin-bottom: 0;padding: 0.3em;box-sizing: border-box;text-align: center;}#sk-container-id-1 label.sk-toggleable__label-arrow:before {content: \"▸\";float: left;margin-right: 0.25em;color: #696969;}#sk-container-id-1 label.sk-toggleable__label-arrow:hover:before {color: black;}#sk-container-id-1 div.sk-estimator:hover label.sk-toggleable__label-arrow:before {color: black;}#sk-container-id-1 div.sk-toggleable__content {max-height: 0;max-width: 0;overflow: hidden;text-align: left;background-color: #f0f8ff;}#sk-container-id-1 div.sk-toggleable__content pre {margin: 0.2em;color: black;border-radius: 0.25em;background-color: #f0f8ff;}#sk-container-id-1 input.sk-toggleable__control:checked~div.sk-toggleable__content {max-height: 200px;max-width: 100%;overflow: auto;}#sk-container-id-1 input.sk-toggleable__control:checked~label.sk-toggleable__label-arrow:before {content: \"▾\";}#sk-container-id-1 div.sk-estimator input.sk-toggleable__control:checked~label.sk-toggleable__label {background-color: #d4ebff;}#sk-container-id-1 div.sk-label input.sk-toggleable__control:checked~label.sk-toggleable__label {background-color: #d4ebff;}#sk-container-id-1 input.sk-hidden--visually {border: 0;clip: rect(1px 1px 1px 1px);clip: rect(1px, 1px, 1px, 1px);height: 1px;margin: -1px;overflow: hidden;padding: 0;position: absolute;width: 1px;}#sk-container-id-1 div.sk-estimator {font-family: monospace;background-color: #f0f8ff;border: 1px dotted black;border-radius: 0.25em;box-sizing: border-box;margin-bottom: 0.5em;}#sk-container-id-1 div.sk-estimator:hover {background-color: #d4ebff;}#sk-container-id-1 div.sk-parallel-item::after {content: \"\";width: 100%;border-bottom: 1px solid gray;flex-grow: 1;}#sk-container-id-1 div.sk-label:hover label.sk-toggleable__label {background-color: #d4ebff;}#sk-container-id-1 div.sk-serial::before {content: \"\";position: absolute;border-left: 1px solid gray;box-sizing: border-box;top: 0;bottom: 0;left: 50%;z-index: 0;}#sk-container-id-1 div.sk-serial {display: flex;flex-direction: column;align-items: center;background-color: white;padding-right: 0.2em;padding-left: 0.2em;position: relative;}#sk-container-id-1 div.sk-item {position: relative;z-index: 1;}#sk-container-id-1 div.sk-parallel {display: flex;align-items: stretch;justify-content: center;background-color: white;position: relative;}#sk-container-id-1 div.sk-item::before, #sk-container-id-1 div.sk-parallel-item::before {content: \"\";position: absolute;border-left: 1px solid gray;box-sizing: border-box;top: 0;bottom: 0;left: 50%;z-index: -1;}#sk-container-id-1 div.sk-parallel-item {display: flex;flex-direction: column;z-index: 1;position: relative;background-color: white;}#sk-container-id-1 div.sk-parallel-item:first-child::after {align-self: flex-end;width: 50%;}#sk-container-id-1 div.sk-parallel-item:last-child::after {align-self: flex-start;width: 50%;}#sk-container-id-1 div.sk-parallel-item:only-child::after {width: 0;}#sk-container-id-1 div.sk-dashed-wrapped {border: 1px dashed gray;margin: 0 0.4em 0.5em 0.4em;box-sizing: border-box;padding-bottom: 0.4em;background-color: white;}#sk-container-id-1 div.sk-label label {font-family: monospace;font-weight: bold;display: inline-block;line-height: 1.2em;}#sk-container-id-1 div.sk-label-container {text-align: center;}#sk-container-id-1 div.sk-container {/* jupyter's `normalize.less` sets `[hidden] { display: none; }` but bootstrap.min.css set `[hidden] { display: none !important; }` so we also need the `!important` here to be able to override the default hidden behavior on the sphinx rendered scikit-learn.org. See: https://github.com/scikit-learn/scikit-learn/issues/21755 */display: inline-block !important;position: relative;}#sk-container-id-1 div.sk-text-repr-fallback {display: none;}</style><div id=\"sk-container-id-1\" class=\"sk-top-container\"><div class=\"sk-text-repr-fallback\"><pre>GridSearchCV(cv=5, estimator=RandomForestClassifier(random_state=42),\n",
              "             param_grid={&#x27;criterion&#x27;: [&#x27;gini&#x27;, &#x27;entropy&#x27;],\n",
              "                         &#x27;max_depth&#x27;: [1, 2, 4, 8],\n",
              "                         &#x27;max_features&#x27;: [&#x27;auto&#x27;, &#x27;sqrt&#x27;, &#x27;log2&#x27;],\n",
              "                         &#x27;n_estimators&#x27;: [1, 5, 10, 20]})</pre><b>In a Jupyter environment, please rerun this cell to show the HTML representation or trust the notebook. <br />On GitHub, the HTML representation is unable to render, please try loading this page with nbviewer.org.</b></div><div class=\"sk-container\" hidden><div class=\"sk-item sk-dashed-wrapped\"><div class=\"sk-label-container\"><div class=\"sk-label sk-toggleable\"><input class=\"sk-toggleable__control sk-hidden--visually\" id=\"sk-estimator-id-1\" type=\"checkbox\" ><label for=\"sk-estimator-id-1\" class=\"sk-toggleable__label sk-toggleable__label-arrow\">GridSearchCV</label><div class=\"sk-toggleable__content\"><pre>GridSearchCV(cv=5, estimator=RandomForestClassifier(random_state=42),\n",
              "             param_grid={&#x27;criterion&#x27;: [&#x27;gini&#x27;, &#x27;entropy&#x27;],\n",
              "                         &#x27;max_depth&#x27;: [1, 2, 4, 8],\n",
              "                         &#x27;max_features&#x27;: [&#x27;auto&#x27;, &#x27;sqrt&#x27;, &#x27;log2&#x27;],\n",
              "                         &#x27;n_estimators&#x27;: [1, 5, 10, 20]})</pre></div></div></div><div class=\"sk-parallel\"><div class=\"sk-parallel-item\"><div class=\"sk-item\"><div class=\"sk-label-container\"><div class=\"sk-label sk-toggleable\"><input class=\"sk-toggleable__control sk-hidden--visually\" id=\"sk-estimator-id-2\" type=\"checkbox\" ><label for=\"sk-estimator-id-2\" class=\"sk-toggleable__label sk-toggleable__label-arrow\">estimator: RandomForestClassifier</label><div class=\"sk-toggleable__content\"><pre>RandomForestClassifier(random_state=42)</pre></div></div></div><div class=\"sk-serial\"><div class=\"sk-item\"><div class=\"sk-estimator sk-toggleable\"><input class=\"sk-toggleable__control sk-hidden--visually\" id=\"sk-estimator-id-3\" type=\"checkbox\" ><label for=\"sk-estimator-id-3\" class=\"sk-toggleable__label sk-toggleable__label-arrow\">RandomForestClassifier</label><div class=\"sk-toggleable__content\"><pre>RandomForestClassifier(random_state=42)</pre></div></div></div></div></div></div></div></div></div></div>"
            ]
          },
          "metadata": {},
          "execution_count": 17
        }
      ]
    },
    {
      "cell_type": "code",
      "source": [
        "gs.best_params_"
      ],
      "metadata": {
        "colab": {
          "base_uri": "https://localhost:8080/"
        },
        "id": "xqpJGvpIWAFP",
        "outputId": "b2dc9397-f7dc-4a04-8168-48f7a6df65d2"
      },
      "execution_count": 20,
      "outputs": [
        {
          "output_type": "execute_result",
          "data": {
            "text/plain": [
              "{'criterion': 'gini',\n",
              " 'max_depth': 8,\n",
              " 'max_features': 'auto',\n",
              " 'n_estimators': 20}"
            ]
          },
          "metadata": {},
          "execution_count": 20
        }
      ]
    },
    {
      "cell_type": "markdown",
      "source": [
        "#### Run model using optimal parameters."
      ],
      "metadata": {
        "id": "HswpjaGLo2EG"
      }
    },
    {
      "cell_type": "code",
      "source": [
        "from sklearn.ensemble import RandomForestClassifier\n",
        "\n",
        "classifier = RandomForestClassifier(random_state=42,\n",
        "                                    max_depth=8,\n",
        "                                    max_features = 'auto',\n",
        "                                    n_estimators = 20,\n",
        "                                    criterion = 'gini')\n",
        "classifier.fit(X_train, y_train)\n",
        "y_pred = classifier.predict(X_test)"
      ],
      "metadata": {
        "id": "LUyzwC5-Qjfd"
      },
      "execution_count": 21,
      "outputs": []
    },
    {
      "cell_type": "markdown",
      "source": [
        "#### Display feature importance."
      ],
      "metadata": {
        "id": "bJj5FBLs7ZxR"
      }
    },
    {
      "cell_type": "code",
      "source": [
        "importances = pd.Series(classifier.feature_importances_,index=X_col.columns)\n",
        "importances = importances[importances > 0.008]\n",
        "importances.sort_values(ascending=False, inplace=True)\n",
        "\n",
        "importances.plot.bar(title='Feature Importance')\n",
        "plt.show()"
      ],
      "metadata": {
        "colab": {
          "base_uri": "https://localhost:8080/",
          "height": 521
        },
        "id": "kS8F7xwWWKUS",
        "outputId": "a52d608d-69ad-4577-fe3e-654a749f4469"
      },
      "execution_count": 22,
      "outputs": [
        {
          "output_type": "display_data",
          "data": {
            "text/plain": [
              "<Figure size 640x480 with 1 Axes>"
            ],
            "image/png": "[encoded data removed]"
          },
          "metadata": {}
        }
      ]
    },
    {
      "cell_type": "markdown",
      "source": [
        "#### Create a confusion matrix using Random Forest resuls."
      ],
      "metadata": {
        "id": "MBpbbgbMpAhS"
      }
    },
    {
      "cell_type": "code",
      "source": [
        "from sklearn.metrics import confusion_matrix, ConfusionMatrixDisplay\n",
        "from sklearn.metrics import accuracy_score\n",
        "\n",
        "# create a confusion matrix\n",
        "cm = confusion_matrix(y_test, y_pred)\n",
        "disp = ConfusionMatrixDisplay(confusion_matrix=cm,\n",
        "        display_labels=classifier.classes_)\n",
        "disp.plot()\n",
        "\n",
        "plt.show()\n",
        "\n",
        "print('Accuracy = ' + str('{0:.2f}'.format(accuracy_score(y_test, y_pred)\\\n",
        "                                           * 100)))"
      ],
      "metadata": {
        "id": "F_WLecrhQkBV",
        "colab": {
          "base_uri": "https://localhost:8080/",
          "height": 466
        },
        "outputId": "6314e6a1-c218-4edb-9f92-55a89d8168fa"
      },
      "execution_count": 23,
      "outputs": [
        {
          "output_type": "display_data",
          "data": {
            "text/plain": [
              "<Figure size 640x480 with 2 Axes>"
            ],
            "image/png": "[encoded data removed]"
          },
          "metadata": {}
        },
        {
          "output_type": "stream",
          "name": "stdout",
          "text": [
            "Accuracy = 98.43\n"
          ]
        }
      ]
    },
    {
      "cell_type": "markdown",
      "source": [
        "#### Create and test a Logistic Regression model."
      ],
      "metadata": {
        "id": "f5en6JwmpMsG"
      }
    },
    {
      "cell_type": "code",
      "source": [
        "# evaluate logistic regression model on raw data\n",
        "from numpy import mean\n",
        "from numpy import std\n",
        "from sklearn.datasets import make_classification\n",
        "from sklearn.model_selection import cross_val_score\n",
        "from sklearn.model_selection import RepeatedStratifiedKFold\n",
        "from sklearn.linear_model import LogisticRegression\n",
        "\n",
        "# define the model\n",
        "model = LogisticRegression()\n",
        "# evaluate model\n",
        "cv = RepeatedStratifiedKFold(n_splits=10, n_repeats=3, random_state=1)\n",
        "n_scores = cross_val_score(model, X, y, scoring='accuracy', cv=cv, n_jobs=-1)\n",
        "# report performance\n",
        "print('Accuracy: %.3f (%.3f)' % (mean(n_scores), std(n_scores)))"
      ],
      "metadata": {
        "colab": {
          "base_uri": "https://localhost:8080/"
        },
        "id": "alTbqMywJS6q",
        "outputId": "46f99a85-3f18-4ec4-df40-2b4b2aee5dbc"
      },
      "execution_count": 24,
      "outputs": [
        {
          "output_type": "stream",
          "name": "stdout",
          "text": [
            "Accuracy: 0.857 (0.027)\n"
          ]
        }
      ]
    },
    {
      "cell_type": "markdown",
      "source": [
        "Create and test a K-Neighbors Classifier model."
      ],
      "metadata": {
        "id": "lULEOi5-pTvf"
      }
    },
    {
      "cell_type": "code",
      "source": [
        "from sklearn.neighbors import KNeighborsClassifier\n",
        "\n",
        "# define the model\n",
        "model = KNeighborsClassifier()\n",
        "model.fit(X_train, y_train)\n",
        "accuracy = model.score(X_test, y_test)\n",
        "print(\"Accuracy: {:.2f}%\".format(accuracy * 100))"
      ],
      "metadata": {
        "colab": {
          "base_uri": "https://localhost:8080/"
        },
        "id": "mn6UxFOvh98I",
        "outputId": "e0261ef8-f3be-47de-e475-7dc2e5befa28"
      },
      "execution_count": 25,
      "outputs": [
        {
          "output_type": "stream",
          "name": "stdout",
          "text": [
            "Accuracy: 78.43%\n"
          ]
        }
      ]
    }
  ]
}